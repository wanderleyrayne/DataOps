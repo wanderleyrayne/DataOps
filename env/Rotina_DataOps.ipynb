{
 "cells": [
  {
   "cell_type": "markdown",
   "metadata": {},
   "source": [
    "# FrameWorks"
   ]
  },
  {
   "cell_type": "code",
   "execution_count": 1,
   "metadata": {},
   "outputs": [],
   "source": [
    "#lib para datas e horas\n",
    "import datetime\n",
    "from logging import warning\n",
    "#lib para o sistema operacional\n",
    "import os\n",
    "import platform\n",
    "#import win32com.client as win32\n",
    "#Lib para conexao\n",
    "#import requests\n",
    "#import socket\n",
    "#Ignorar Avisos\n",
    "#import warnings\n",
    "#warnings.filterwarnings('ignore')\n"
   ]
  },
  {
   "cell_type": "markdown",
   "metadata": {},
   "source": [
    "# Rotinas Iniciais\n"
   ]
  },
  {
   "cell_type": "code",
   "execution_count": 2,
   "metadata": {},
   "outputs": [],
   "source": [
    "Routine_Id = 1\n",
    "Routine_Name = 'Fluxo de dados - corretora'\n",
    "\n",
    "# Quero indetificar o usuário do sistema\n",
    "\n",
    "def user_identify():\n",
    "\n",
    "    User = os.environ.get('UserName')\n",
    "    User_machine = platform.node() #Identificar a maquina do usuário\n",
    "    User_so = platform.platform() #Identificar o sistema operacional\n",
    "\n",
    "    \n",
    "    return( User, User_machine, User_so)  #Retorno da função\n",
    "\n",
    "#Identicar o inicio\n",
    "\n",
    "def routine_Start():\n",
    "    \n",
    "    StartDate =datetime.datetime.today().date() #Data de inicio\n",
    "    \n",
    "    StartHours = datetime.datetime.now() #Hora de inicio\n",
    "\n",
    "    return (StartDate, StartHours)\n",
    "\n",
    "def routine_finished():\n",
    "    FinishedDate =datetime.datetime.today().date() #Data de termino\n",
    "    \n",
    "    FinishedHours = datetime.datetime.now() #Hora de termino\n",
    "\n",
    "    return (FinishedDate, FinishedHours)\n",
    "\n",
    "# Verificando conexão com internet\n",
    "\n",
    "def connection_verify():\n",
    "    Url = 'https://www.prontmed.com' #Conexão\n",
    "    Timeout = 5 #Tempo de conexão\n",
    "    try:\n",
    "        requests.get(Url, timeout=Timeout) # Função para testar conexão\n",
    "        return True\n",
    "\n",
    "    except:\n",
    "        return False\n",
    "\n",
    "#Identiifcando o IP local do usuário\n",
    "def identify_IP():\n",
    "    try:\n",
    "        Local_IP = socket.gethostbyname( socket.gethostname()) \n",
    "        return Local_IP\n",
    "\n",
    "    except:\n",
    "        return False\n",
    "\n",
    "#Gerando os parametros\n",
    "list_user = user_identify()\n",
    "list_routine_start = routine_Start()\n",
    "list_routine_finished = routine_finished()\n",
    "Internet_connection = connection_verify()\n",
    "user_local_ip = identify_IP()\n",
    "\n",
    "#Colocar todos o erros que acontecer no processo\n",
    "\n",
    "Erro_Operacional = []\n"
   ]
  },
  {
   "cell_type": "markdown",
   "metadata": {},
   "source": [
    "# Operacional\n"
   ]
  },
  {
   "cell_type": "code",
   "execution_count": 3,
   "metadata": {},
   "outputs": [],
   "source": [
    "#Termino da Rotina\n",
    "\n",
    "\n",
    "# Organização\n",
    "dictionary = {\n",
    "    'Routine_Id': Routine_Id,\n",
    "    'Routine_Name': Routine_Name,\n",
    "    'user': list_user[0],\n",
    "    'User_machine': list_user[1],\n",
    "    'User_so': list_user[2],\n",
    "    'StartDate': list_routine_start[0],\n",
    "    'StartHours': list_routine_start[1],\n",
    "    'Internet_connection': connection_verify,\n",
    "    'user_local_ip': identify_IP,\n",
    "    'FinishedDate': list_routine_finished[0],\n",
    "    'FinishedHours':list_routine_finished[1],\n",
    "    'Execution_Time': (list_routine_finished[1] - list_routine_start[1]),\n",
    "    'Erro': Erro_Operacional\n",
    "\n",
    "\n",
    "\n",
    "\n",
    "}"
   ]
  },
  {
   "cell_type": "code",
   "execution_count": 4,
   "metadata": {},
   "outputs": [
    {
     "data": {
      "text/plain": [
       "{'Routine_Id': 1,\n",
       " 'Routine_Name': 'Fluxo de dados - corretora',\n",
       " 'user': 'wande',\n",
       " 'User_machine': 'DESKTOP-DTCOJIE',\n",
       " 'User_so': 'Windows-10-10.0.19044-SP0',\n",
       " 'StartDate': datetime.date(2022, 10, 29),\n",
       " 'StartHours': datetime.datetime(2022, 10, 29, 15, 20, 2, 176392),\n",
       " 'Internet_connection': <function __main__.connection_verify()>,\n",
       " 'user_local_ip': <function __main__.identify_IP()>,\n",
       " 'FinishedDate': datetime.date(2022, 10, 29),\n",
       " 'FinishedHours': datetime.datetime(2022, 10, 29, 15, 20, 2, 176392),\n",
       " 'Execution_Time': datetime.timedelta(0),\n",
       " 'Erro': []}"
      ]
     },
     "execution_count": 4,
     "metadata": {},
     "output_type": "execute_result"
    }
   ],
   "source": [
    "dictionary"
   ]
  },
  {
   "cell_type": "code",
   "execution_count": null,
   "metadata": {},
   "outputs": [],
   "source": []
  }
 ],
 "metadata": {
  "kernelspec": {
   "display_name": "Python 3.9.7 ('base')",
   "language": "python",
   "name": "python3"
  },
  "language_info": {
   "codemirror_mode": {
    "name": "ipython",
    "version": 3
   },
   "file_extension": ".py",
   "mimetype": "text/x-python",
   "name": "python",
   "nbconvert_exporter": "python",
   "pygments_lexer": "ipython3",
   "version": "3.9.7"
  },
  "orig_nbformat": 4,
  "vscode": {
   "interpreter": {
    "hash": "75c96d553a997431c9c0d003dfc1c63aee18c8096cc4c7da4c53d4e05bf4a519"
   }
  }
 },
 "nbformat": 4,
 "nbformat_minor": 2
}
