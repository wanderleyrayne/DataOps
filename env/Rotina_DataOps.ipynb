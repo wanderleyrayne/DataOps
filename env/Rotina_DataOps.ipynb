{
 "cells": [
  {
   "cell_type": "markdown",
   "metadata": {},
   "source": [
    "# FrameWorks"
   ]
  },
  {
   "cell_type": "code",
   "execution_count": 115,
   "metadata": {},
   "outputs": [],
   "source": [
    "#lib para datas e horas\n",
    "import datetime\n",
    "from logging import warning\n",
    "#lib para o sistema operacional\n",
    "import os\n",
    "import platform\n",
    "import win32com.client as win32\n",
    "#Lib para conexao\n",
    "import requests\n",
    "import socket\n",
    "#Ignorar Avisos\n",
    "import warnings\n",
    "warnings.filterwarnings('ignore')\n",
    "import pandas as pd\n"
   ]
  },
  {
   "cell_type": "markdown",
   "metadata": {},
   "source": [
    "# Rotinas Iniciais\n"
   ]
  },
  {
   "cell_type": "code",
   "execution_count": 129,
   "metadata": {},
   "outputs": [],
   "source": [
    "Routine_Id = 1\n",
    "Routine_Name = 'Fluxo de dados - corretora'\n",
    "\n",
    "# Quero indetificar o usuário do sistema\n",
    "\n",
    "def user_identify():\n",
    "\n",
    "    User = os.environ.get('UserName')\n",
    "    User_machine = platform.node() #Identificar a maquina do usuário\n",
    "    User_so = platform.platform() #Identificar o sistema operacional\n",
    "\n",
    "    \n",
    "    return( User, User_machine, User_so)  #Retorno da função\n",
    "\n",
    "\n",
    "\n",
    "def routine_Start(): #Identicar o inicio\n",
    "    \n",
    "    StartDate =datetime.datetime.today().date() #Data de inicio\n",
    "    \n",
    "    StartHours = datetime.datetime.now() #Hora de inicio\n",
    "\n",
    "    return (StartDate, StartHours)\n",
    "\n",
    "def routine_finished():\n",
    "    FinishedDate =datetime.datetime.today().date() #Data de termino\n",
    "    \n",
    "    FinishedHours = datetime.datetime.now() #Hora de termino\n",
    "\n",
    "    return (FinishedDate, FinishedHours)\n",
    "\n",
    "\n",
    "\n",
    "def connection_verify(): # Verificando conexão com internet\n",
    "    Url = 'https://www.prontmed.com' #Conexão\n",
    "    Timeout = 5 #Tempo de conexão\n",
    "    try:\n",
    "        requests.get(Url, timeout=Timeout) # Função para testar conexão\n",
    "        return True\n",
    "\n",
    "    except:\n",
    "        return False\n",
    "\n",
    "\n",
    "def identify_IP(): #Identiifcando o IP local do usuário\n",
    "    try:\n",
    "        Local_IP = socket.gethostbyname( socket.gethostname()) \n",
    "        return Local_IP\n",
    "\n",
    "    except:\n",
    "        return False\n",
    "\n",
    "#Gerando os parametros\n",
    "list_user = user_identify()\n",
    "list_routine_start = routine_Start()\n",
    "list_routine_finished = routine_finished()\n",
    "Internet_connection = connection_verify()\n",
    "user_local_ip = identify_IP()\n",
    "\n",
    "#Colocar todos o erros que acontecer no processo\n",
    "\n",
    "Erro_Operacional = ''\n"
   ]
  },
  {
   "cell_type": "markdown",
   "metadata": {},
   "source": [
    "# Operacional\n"
   ]
  },
  {
   "cell_type": "code",
   "execution_count": 133,
   "metadata": {},
   "outputs": [],
   "source": [
    "# Organização\n",
    "dictionary = {\n",
    "    'Routine_Id': Routine_Id,\n",
    "    'Routine_Name': Routine_Name,\n",
    "    'User': list_user[0],\n",
    "    'User_Machine': list_user[1],\n",
    "    'User_So': list_user[2],\n",
    "    'StartDate': list_routine_start[0],\n",
    "    'StartHours': list_routine_start[1],\n",
    "    'Internet_Connection': Internet_connection,\n",
    "    'User_local_IP': user_local_ip,\n",
    "    'FinishedDate': list_routine_finished[0],\n",
    "    'FinishedHours':list_routine_finished[1],\n",
    "    'Execution_Time': (list_routine_finished[1] - list_routine_start[1]),\n",
    "    'Erro': Erro_Operacional\n",
    "}\n",
    "Audit_log = pd.DataFrame(dictionary, index=[0])"
   ]
  },
  {
   "cell_type": "code",
   "execution_count": 134,
   "metadata": {},
   "outputs": [
    {
     "data": {
      "text/html": [
       "<div>\n",
       "<style scoped>\n",
       "    .dataframe tbody tr th:only-of-type {\n",
       "        vertical-align: middle;\n",
       "    }\n",
       "\n",
       "    .dataframe tbody tr th {\n",
       "        vertical-align: top;\n",
       "    }\n",
       "\n",
       "    .dataframe thead th {\n",
       "        text-align: right;\n",
       "    }\n",
       "</style>\n",
       "<table border=\"1\" class=\"dataframe\">\n",
       "  <thead>\n",
       "    <tr style=\"text-align: right;\">\n",
       "      <th></th>\n",
       "      <th>Routine_Id</th>\n",
       "      <th>Routine_Name</th>\n",
       "      <th>User</th>\n",
       "      <th>User_Machine</th>\n",
       "      <th>User_So</th>\n",
       "      <th>StartDate</th>\n",
       "      <th>StartHours</th>\n",
       "      <th>Internet_Connection</th>\n",
       "      <th>User_local_IP</th>\n",
       "      <th>FinishedDate</th>\n",
       "      <th>FinishedHours</th>\n",
       "      <th>Execution_Time</th>\n",
       "      <th>Erro</th>\n",
       "    </tr>\n",
       "  </thead>\n",
       "  <tbody>\n",
       "    <tr>\n",
       "      <th>0</th>\n",
       "      <td>1</td>\n",
       "      <td>Fluxo de dados - corretora</td>\n",
       "      <td>wande</td>\n",
       "      <td>DESKTOP-DTCOJIE</td>\n",
       "      <td>Windows-10-10.0.19044-SP0</td>\n",
       "      <td>2022-10-29</td>\n",
       "      <td>2022-10-29 17:03:21.904136</td>\n",
       "      <td>True</td>\n",
       "      <td>10.0.0.114</td>\n",
       "      <td>2022-10-29</td>\n",
       "      <td>2022-10-29 17:03:21.904136</td>\n",
       "      <td>0 days</td>\n",
       "      <td></td>\n",
       "    </tr>\n",
       "  </tbody>\n",
       "</table>\n",
       "</div>"
      ],
      "text/plain": [
       "   Routine_Id                Routine_Name   User     User_Machine  \\\n",
       "0           1  Fluxo de dados - corretora  wande  DESKTOP-DTCOJIE   \n",
       "\n",
       "                     User_So   StartDate                 StartHours  \\\n",
       "0  Windows-10-10.0.19044-SP0  2022-10-29 2022-10-29 17:03:21.904136   \n",
       "\n",
       "   Internet_Connection User_local_IP FinishedDate              FinishedHours  \\\n",
       "0                 True    10.0.0.114   2022-10-29 2022-10-29 17:03:21.904136   \n",
       "\n",
       "  Execution_Time Erro  \n",
       "0         0 days       "
      ]
     },
     "execution_count": 134,
     "metadata": {},
     "output_type": "execute_result"
    }
   ],
   "source": [
    "Audit_log"
   ]
  },
  {
   "cell_type": "code",
   "execution_count": null,
   "metadata": {},
   "outputs": [],
   "source": []
  }
 ],
 "metadata": {
  "kernelspec": {
   "display_name": "Python 3.9.7 ('base')",
   "language": "python",
   "name": "python3"
  },
  "language_info": {
   "codemirror_mode": {
    "name": "ipython",
    "version": 3
   },
   "file_extension": ".py",
   "mimetype": "text/x-python",
   "name": "python",
   "nbconvert_exporter": "python",
   "pygments_lexer": "ipython3",
   "version": "3.9.7"
  },
  "orig_nbformat": 4,
  "vscode": {
   "interpreter": {
    "hash": "75c96d553a997431c9c0d003dfc1c63aee18c8096cc4c7da4c53d4e05bf4a519"
   }
  }
 },
 "nbformat": 4,
 "nbformat_minor": 2
}
